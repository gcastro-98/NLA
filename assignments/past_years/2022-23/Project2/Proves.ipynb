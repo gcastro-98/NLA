{
 "cells": [
  {
   "cell_type": "code",
   "execution_count": 16,
   "metadata": {},
   "outputs": [],
   "source": [
    "import numpy as np\n",
    "from scipy.linalg import svd\n",
    "import scipy"
   ]
  },
  {
   "cell_type": "code",
   "execution_count": 17,
   "metadata": {},
   "outputs": [],
   "source": [
    "def load_dat_files(choice, degree):\n",
    "    if choice==1:\n",
    "        data_wrong = np.genfromtxt('dades', delimiter=' ')\n",
    "        data = np.zeros((data_wrong.shape[0],2))\n",
    "        for i in range(0,data_wrong.shape[0]):\n",
    "            data[i,0] = data_wrong[i,0]\n",
    "            data[i,1] = data_wrong[i,3]\n",
    "        #Let us construct the matrix A and the vector b for the fitting\n",
    "        A = np.zeros((data.shape[0],degree))\n",
    "        for i in range(0,data.shape[0]):\n",
    "            A[i,:] = [data[i,0]**d for d in range(0,degree)]\n",
    "        b = data[:,1]\n",
    "        return A,b,data\n",
    "    else:\n",
    "        A = np.genfromtxt('example.dat', delimiter=' ')\n",
    "        return A"
   ]
  },
  {
   "cell_type": "code",
   "execution_count": 24,
   "metadata": {},
   "outputs": [],
   "source": [
    "A,b,data = load_dat_files(1,19)"
   ]
  },
  {
   "cell_type": "code",
   "execution_count": 25,
   "metadata": {},
   "outputs": [
    {
     "name": "stdout",
     "output_type": "stream",
     "text": [
      "(500, 500)\n",
      "(19, 19)\n",
      "(19, 19)\n"
     ]
    },
    {
     "ename": "ValueError",
     "evalue": "matmul: Input operand 1 has a mismatch in its core dimension 0, with gufunc signature (n?,k),(k,m?)->(n?,m?) (size 19 is different from 500)",
     "output_type": "error",
     "traceback": [
      "\u001b[0;31m---------------------------------------------------------------------------\u001b[0m",
      "\u001b[0;31mValueError\u001b[0m                                Traceback (most recent call last)",
      "\u001b[0;32m/tmp/ipykernel_4714/1245572848.py\u001b[0m in \u001b[0;36m<cell line: 5>\u001b[0;34m()\u001b[0m\n\u001b[1;32m      3\u001b[0m \u001b[0mprint\u001b[0m\u001b[0;34m(\u001b[0m\u001b[0mnp\u001b[0m\u001b[0;34m.\u001b[0m\u001b[0mdiag\u001b[0m\u001b[0;34m(\u001b[0m\u001b[0mS\u001b[0m\u001b[0;34m)\u001b[0m\u001b[0;34m.\u001b[0m\u001b[0mshape\u001b[0m\u001b[0;34m)\u001b[0m\u001b[0;34m\u001b[0m\u001b[0;34m\u001b[0m\u001b[0m\n\u001b[1;32m      4\u001b[0m \u001b[0mprint\u001b[0m\u001b[0;34m(\u001b[0m\u001b[0mVH\u001b[0m\u001b[0;34m.\u001b[0m\u001b[0mshape\u001b[0m\u001b[0;34m)\u001b[0m\u001b[0;34m\u001b[0m\u001b[0;34m\u001b[0m\u001b[0m\n\u001b[0;32m----> 5\u001b[0;31m \u001b[0mM\u001b[0m\u001b[0;34m=\u001b[0m\u001b[0mnp\u001b[0m\u001b[0;34m.\u001b[0m\u001b[0mmatmul\u001b[0m\u001b[0;34m(\u001b[0m\u001b[0mU\u001b[0m\u001b[0;34m,\u001b[0m\u001b[0mnp\u001b[0m\u001b[0;34m.\u001b[0m\u001b[0mmatmul\u001b[0m\u001b[0;34m(\u001b[0m\u001b[0mnp\u001b[0m\u001b[0;34m.\u001b[0m\u001b[0mdiag\u001b[0m\u001b[0;34m(\u001b[0m\u001b[0mS\u001b[0m\u001b[0;34m)\u001b[0m\u001b[0;34m,\u001b[0m\u001b[0mVH\u001b[0m\u001b[0;34m)\u001b[0m\u001b[0;34m)\u001b[0m\u001b[0;34m\u001b[0m\u001b[0;34m\u001b[0m\u001b[0m\n\u001b[0m",
      "\u001b[0;31mValueError\u001b[0m: matmul: Input operand 1 has a mismatch in its core dimension 0, with gufunc signature (n?,k),(k,m?)->(n?,m?) (size 19 is different from 500)"
     ]
    }
   ],
   "source": [
    "U,S,VH = svd(A)\n",
    "print(U.shape)\n",
    "print(np.diag(S).shape)\n",
    "print(VH.shape)\n",
    "M=np.matmul(U,np.matmul(np.diag(S),VH))"
   ]
  },
  {
   "cell_type": "code",
   "execution_count": 23,
   "metadata": {},
   "outputs": [
    {
     "name": "stdout",
     "output_type": "stream",
     "text": [
      "15.03864528032244\n"
     ]
    }
   ],
   "source": [
    "\n",
    "print(np.linalg.norm(A-M))"
   ]
  },
  {
   "cell_type": "code",
   "execution_count": 6,
   "metadata": {},
   "outputs": [
    {
     "name": "stdout",
     "output_type": "stream",
     "text": [
      "1.588337120973833e-06\n",
      "1.5944824872801757e-06\n"
     ]
    }
   ],
   "source": [
    "U,S,VH = np.linalg.svd(A,full_matrices=False)\n",
    "M=np.matmul(U,np.matmul(np.diag(S),VH))\n",
    "ML=(U*S)@VH\n",
    "print(np.linalg.norm(A-M))\n",
    "print(np.linalg.norm(A-ML))"
   ]
  },
  {
   "cell_type": "code",
   "execution_count": 8,
   "metadata": {},
   "outputs": [],
   "source": [
    "A,b,data = load_dat_files(1,5)"
   ]
  },
  {
   "cell_type": "code",
   "execution_count": 59,
   "metadata": {},
   "outputs": [],
   "source": [
    "Q,R=scipy.linalg.qr(A)\n",
    "Q1,R1=np.linalg.qr(A)"
   ]
  },
  {
   "cell_type": "code",
   "execution_count": 62,
   "metadata": {},
   "outputs": [
    {
     "name": "stdout",
     "output_type": "stream",
     "text": [
      "(15, 15)\n",
      "(15, 11)\n",
      "[[-3.87298335e+00 -3.87298335e+00 -1.84651327e+00 -1.21493892e+00\n",
      "  -8.96002429e-01 -7.04846551e-01 -5.76515167e-01 -4.83516736e-01\n",
      "  -4.12453055e-01 -3.56039038e-01 -3.09976838e-01]\n",
      " [ 0.00000000e+00  1.37391169e-16 -4.83045892e-01 -3.24600474e-01\n",
      "  -2.39465655e-01 -1.88378154e-01 -1.54080159e-01 -1.29225283e-01\n",
      "  -1.10232716e-01 -9.51554354e-02 -8.28447947e-02]\n",
      " [ 0.00000000e+00  0.00000000e+00  1.03077331e+00  1.03806016e+00\n",
      "   9.31054060e-01  8.15242134e-01  7.11777808e-01  6.23009923e-01\n",
      "   5.47245214e-01  4.82297974e-01  4.26267321e-01]\n",
      " [ 0.00000000e+00  0.00000000e+00  0.00000000e+00  2.66172881e-01\n",
      "   3.75788184e-01  4.09090272e-01  4.06166169e-01  3.86296276e-01\n",
      "   3.59070441e-01  3.29378653e-01  2.99731004e-01]\n",
      " [ 0.00000000e+00  0.00000000e+00  0.00000000e+00  0.00000000e+00\n",
      "   6.64055146e-02  1.20527720e-01  1.52717774e-01  1.67703699e-01\n",
      "   1.71280442e-01  1.67838171e-01  1.60329174e-01]\n",
      " [ 0.00000000e+00  0.00000000e+00  0.00000000e+00  0.00000000e+00\n",
      "   0.00000000e+00  1.16941768e-02  2.72318412e-02  4.13799916e-02\n",
      "   5.22142411e-02  5.95198296e-02  6.37523725e-02]\n",
      " [ 0.00000000e+00  0.00000000e+00  0.00000000e+00  0.00000000e+00\n",
      "   0.00000000e+00  0.00000000e+00 -2.41473482e-03 -6.90947283e-03\n",
      "  -1.22889002e-02 -1.75496078e-02 -2.21027865e-02]\n",
      " [ 0.00000000e+00  0.00000000e+00  0.00000000e+00  0.00000000e+00\n",
      "   0.00000000e+00  0.00000000e+00  0.00000000e+00  3.91785471e-04\n",
      "   1.36467912e-03  2.85745086e-03  4.68561129e-03]\n",
      " [ 0.00000000e+00  0.00000000e+00  0.00000000e+00  0.00000000e+00\n",
      "   0.00000000e+00  0.00000000e+00  0.00000000e+00  0.00000000e+00\n",
      "  -7.66000333e-05 -3.13617278e-04 -7.51773413e-04]\n",
      " [ 0.00000000e+00  0.00000000e+00  0.00000000e+00  0.00000000e+00\n",
      "   0.00000000e+00  0.00000000e+00  0.00000000e+00  0.00000000e+00\n",
      "   0.00000000e+00 -1.06539400e-05 -4.85074526e-05]\n",
      " [ 0.00000000e+00  0.00000000e+00  0.00000000e+00  0.00000000e+00\n",
      "   0.00000000e+00  0.00000000e+00  0.00000000e+00  0.00000000e+00\n",
      "   0.00000000e+00  0.00000000e+00 -1.26932066e-06]\n",
      " [ 0.00000000e+00  0.00000000e+00  0.00000000e+00  0.00000000e+00\n",
      "   0.00000000e+00  0.00000000e+00  0.00000000e+00  0.00000000e+00\n",
      "   0.00000000e+00  0.00000000e+00  0.00000000e+00]\n",
      " [ 0.00000000e+00  0.00000000e+00  0.00000000e+00  0.00000000e+00\n",
      "   0.00000000e+00  0.00000000e+00  0.00000000e+00  0.00000000e+00\n",
      "   0.00000000e+00  0.00000000e+00  0.00000000e+00]\n",
      " [ 0.00000000e+00  0.00000000e+00  0.00000000e+00  0.00000000e+00\n",
      "   0.00000000e+00  0.00000000e+00  0.00000000e+00  0.00000000e+00\n",
      "   0.00000000e+00  0.00000000e+00  0.00000000e+00]\n",
      " [ 0.00000000e+00  0.00000000e+00  0.00000000e+00  0.00000000e+00\n",
      "   0.00000000e+00  0.00000000e+00  0.00000000e+00  0.00000000e+00\n",
      "   0.00000000e+00  0.00000000e+00  0.00000000e+00]]\n",
      "(15, 11)\n",
      "(11, 11)\n"
     ]
    }
   ],
   "source": [
    "print(Q.shape)\n",
    "print(R.shape)\n",
    "print(R)\n",
    "print(Q1.shape)\n",
    "print(R1.shape)"
   ]
  },
  {
   "cell_type": "code",
   "execution_count": 10,
   "metadata": {},
   "outputs": [
    {
     "data": {
      "text/plain": [
       "6.4961355158464796e-12"
      ]
     },
     "execution_count": 10,
     "metadata": {},
     "output_type": "execute_result"
    }
   ],
   "source": [
    "np.linalg.norm(np.matmul(Q,R)-A)"
   ]
  },
  {
   "cell_type": "code",
   "execution_count": 2,
   "metadata": {},
   "outputs": [],
   "source": [
    "def load_csv():\n",
    "    X = np.genfromtxt('dades_regressio.csv', delimiter=',')\n",
    "    A, b = X[:,:-1], X[:,-1]\n",
    "    return A,b"
   ]
  },
  {
   "cell_type": "code",
   "execution_count": 16,
   "metadata": {},
   "outputs": [],
   "source": [
    "A,b=load_csv()"
   ]
  },
  {
   "cell_type": "code",
   "execution_count": 17,
   "metadata": {},
   "outputs": [
    {
     "name": "stdout",
     "output_type": "stream",
     "text": [
      "(11, 11)\n"
     ]
    }
   ],
   "source": [
    "U,S,VH = svd(A,full_matrices=False)\n",
    "print(np.diag(S).shape)"
   ]
  },
  {
   "cell_type": "code",
   "execution_count": 18,
   "metadata": {},
   "outputs": [
    {
     "name": "stdout",
     "output_type": "stream",
     "text": [
      "3.5293228913425555e-15\n"
     ]
    }
   ],
   "source": [
    "M=np.matmul(U,np.matmul(np.diag(S),VH))\n",
    "print(np.linalg.norm(A-M))"
   ]
  },
  {
   "cell_type": "code",
   "execution_count": 13,
   "metadata": {},
   "outputs": [
    {
     "name": "stdout",
     "output_type": "stream",
     "text": [
      "(15, 11)\n",
      "(11, 11)\n",
      "(11, 11)\n",
      "(15, 15)\n",
      "(11, 11)\n",
      "(11, 11)\n",
      "10\n",
      "12117894.880112719\n"
     ]
    }
   ],
   "source": [
    "U,S,VH = svd(A,full_matrices=False)\n",
    "print(U.shape)\n",
    "print(np.diag(S).shape)\n",
    "print(VH.shape)\n",
    "Uy,Sy,VHy = svd(A,full_matrices=True)\n",
    "print(Uy.shape)\n",
    "print(np.diag(Sy).shape)\n",
    "print(VHy.shape)\n",
    "pseudoinvers = np.matmul(np.matmul(VH.T, inverse_S), U.T)\n",
    "print(np.linalg.norm(pseudoinvers-np.linalg.pinv(A)))"
   ]
  },
  {
   "cell_type": "code",
   "execution_count": 27,
   "metadata": {},
   "outputs": [
    {
     "name": "stdout",
     "output_type": "stream",
     "text": [
      "(15, 10)\n",
      "(10, 10)\n",
      "(10, 11)\n",
      "3.702535279665717e-15\n",
      "[[1.61336485e-01 0.00000000e+00 0.00000000e+00 0.00000000e+00\n",
      "  0.00000000e+00 0.00000000e+00 0.00000000e+00 0.00000000e+00\n",
      "  0.00000000e+00 0.00000000e+00]\n",
      " [0.00000000e+00 4.34080033e-01 0.00000000e+00 0.00000000e+00\n",
      "  0.00000000e+00 0.00000000e+00 0.00000000e+00 0.00000000e+00\n",
      "  0.00000000e+00 0.00000000e+00]\n",
      " [0.00000000e+00 0.00000000e+00 1.65360894e+00 0.00000000e+00\n",
      "  0.00000000e+00 0.00000000e+00 0.00000000e+00 0.00000000e+00\n",
      "  0.00000000e+00 0.00000000e+00]\n",
      " [0.00000000e+00 0.00000000e+00 0.00000000e+00 6.88164251e+00\n",
      "  0.00000000e+00 0.00000000e+00 0.00000000e+00 0.00000000e+00\n",
      "  0.00000000e+00 0.00000000e+00]\n",
      " [0.00000000e+00 0.00000000e+00 0.00000000e+00 0.00000000e+00\n",
      "  3.12779550e+01 0.00000000e+00 0.00000000e+00 0.00000000e+00\n",
      "  0.00000000e+00 0.00000000e+00]\n",
      " [0.00000000e+00 0.00000000e+00 0.00000000e+00 0.00000000e+00\n",
      "  0.00000000e+00 2.02803495e+02 0.00000000e+00 0.00000000e+00\n",
      "  0.00000000e+00 0.00000000e+00]\n",
      " [0.00000000e+00 0.00000000e+00 0.00000000e+00 0.00000000e+00\n",
      "  0.00000000e+00 0.00000000e+00 1.53364459e+03 0.00000000e+00\n",
      "  0.00000000e+00 0.00000000e+00]\n",
      " [0.00000000e+00 0.00000000e+00 0.00000000e+00 0.00000000e+00\n",
      "  0.00000000e+00 0.00000000e+00 0.00000000e+00 1.77212957e+04\n",
      "  0.00000000e+00 0.00000000e+00]\n",
      " [0.00000000e+00 0.00000000e+00 0.00000000e+00 0.00000000e+00\n",
      "  0.00000000e+00 0.00000000e+00 0.00000000e+00 0.00000000e+00\n",
      "  3.84598639e+05 0.00000000e+00]\n",
      " [0.00000000e+00 0.00000000e+00 0.00000000e+00 0.00000000e+00\n",
      "  0.00000000e+00 0.00000000e+00 0.00000000e+00 0.00000000e+00\n",
      "  0.00000000e+00 1.21117771e+07]]\n",
      "0.013195537394745683\n"
     ]
    }
   ],
   "source": [
    "A,b=load_csv()\n",
    "U,S,VH = svd(A,full_matrices=False)\n",
    "inverse_S=np.zeros(np.diag(S).shape)\n",
    "j=0\n",
    "for i in range(0,np.diag(S).shape[0]):\n",
    "    if abs(S[i]>1e-12):\n",
    "        j=j+1\n",
    "        inverse_S[i,i] = S[i]\n",
    "new_inv = np.zeros((j,j))\n",
    "for k in range(0,j):\n",
    "    new_inv[k,k] = inverse_S[k,k]\n",
    "U_new = np.zeros((U.shape[0],j))\n",
    "for k in range(0,j):\n",
    "    U_new[:,k] = U[:,k]\n",
    "VH_new = np.zeros((j,VH.shape[0]))\n",
    "for k in range(0,j):\n",
    "    VH_new[k,:] = VH[k,:]\n",
    "print(U_new.shape)\n",
    "print(new_inv.shape)\n",
    "print(VH_new.shape)\n",
    "M=np.matmul(np.matmul(U_new,new_inv),VH_new)\n",
    "print(np.linalg.norm(A-M))\n",
    "INVERSA = np.zeros(new_inv.shape)\n",
    "for i in range(0,new_inv.shape[0]):\n",
    "    INVERSA[i,i] = 1/new_inv[i,i]\n",
    "print(INVERSA)\n",
    "M_inv = np.matmul(np.matmul(VH_new.T,INVERSA),U_new.T)\n",
    "print(np.linalg.norm(M_inv-np.linalg.pinv(A)))"
   ]
  },
  {
   "cell_type": "code",
   "execution_count": 39,
   "metadata": {},
   "outputs": [
    {
     "name": "stdout",
     "output_type": "stream",
     "text": [
      "[6.19822604]\n",
      "[1.61336485e-01 4.34080033e-01 1.65360894e+00 6.88164251e+00\n",
      " 3.12779550e+01 2.02803495e+02 1.53364459e+03 1.77212957e+04\n",
      " 3.84598639e+05 1.21117771e+07 0.00000000e+00]\n",
      "0.01319553738061564\n"
     ]
    }
   ],
   "source": [
    "A,b=load_csv()\n",
    "U,S,VH = svd(A,full_matrices=False)\n",
    "print(np.amax(S,axis=-1, keepdims=True))\n",
    "for i in range(0,S.shape[0]):\n",
    "    if S[i]>1e-15*np.amax(S,axis=-1, keepdims=True):\n",
    "        S[i] = 1/S[i]\n",
    "    else:\n",
    "        S[i]=0\n",
    "print(S)\n",
    "M = np.matmul(VH.T,np.matmul(np.diag(S),U.T))\n",
    "print(np.linalg.norm(M-np.linalg.pinv(A)))"
   ]
  },
  {
   "cell_type": "code",
   "execution_count": 12,
   "metadata": {},
   "outputs": [
    {
     "name": "stdout",
     "output_type": "stream",
     "text": [
      "[[-4.26566344e+15 -1.32587953e+15  1.05974845e+14 -1.62244331e+14\n",
      "   4.26521729e+15 -5.56105566e+14  6.46864096e+14  3.22472014e+14\n",
      "   1.03427950e+14  2.13108342e+14 -1.71260689e+14 -4.04242455e+14\n",
      "   1.57022905e+15 -5.96953557e+12 -3.35928040e+14]\n",
      " [ 4.26566344e+15  1.32587953e+15 -1.05974845e+14  1.62244331e+14\n",
      "  -4.26521729e+15  5.56105566e+14 -6.46864096e+14 -3.22472014e+14\n",
      "  -1.03427950e+14 -2.13108342e+14  1.71260689e+14  4.04242455e+14\n",
      "  -1.57022905e+15  5.96953557e+12  3.35928040e+14]\n",
      " [-8.68630689e+02  4.01913747e+02 -9.89727194e+02  5.18914800e+02\n",
      "   8.42646909e+02 -1.61796401e+03  1.01504613e+03  1.83869338e+03\n",
      "   1.09796640e+03  2.28010786e+02  1.33941999e+03 -1.88116565e+03\n",
      "  -6.18571399e+02 -1.49706547e+03  1.90512249e+02]\n",
      " [ 1.43528793e+04 -6.59088172e+03  1.46479283e+04 -7.04454102e+03\n",
      "  -1.41192848e+04  2.73902268e+04 -1.68532974e+04 -2.90390834e+04\n",
      "  -1.81682201e+04 -3.97525439e+03 -2.25655964e+04  3.06095690e+04\n",
      "   1.02905956e+04  2.42828697e+04 -3.21790942e+03]\n",
      " [-1.06355095e+05  4.80236566e+04 -9.52643434e+04  3.98104406e+04\n",
      "   1.05171547e+05 -2.07211810e+05  1.24641795e+05  2.04594913e+05\n",
      "   1.33351425e+05  3.11345335e+04  1.69608613e+05 -2.20895444e+05\n",
      "  -7.63601268e+04 -1.74580078e+05  2.43299733e+04]\n",
      " [ 4.40640837e+05 -1.94586954e+05  3.44241079e+05 -1.15322168e+05\n",
      "  -4.36911712e+05  8.75013965e+05 -5.13474394e+05 -8.06698886e+05\n",
      "  -5.43371797e+05 -1.36619365e+05 -7.10487929e+05  8.87552808e+05\n",
      "   3.16251224e+05  6.96757122e+05 -1.02983831e+05]\n",
      " [-1.10687547e+06  4.75958614e+05 -7.54263659e+05  1.76507763e+05\n",
      "   1.09928736e+06 -2.23682502e+06  1.27883789e+06  1.93396315e+06\n",
      "   1.33655158e+06  3.63959903e+05  1.79921060e+06 -2.15981291e+06\n",
      "  -7.93731142e+05 -1.67769687e+06  2.64928215e+05]\n",
      " [ 1.72339192e+06 -7.18891322e+05  1.02825152e+06 -1.20687537e+05\n",
      "  -1.71340508e+06  3.53855995e+06 -1.96991351e+06 -2.88450549e+06\n",
      "  -2.03343999e+06 -6.01272762e+05 -2.81663820e+06  3.26008173e+06\n",
      "   1.23522301e+06  2.49700267e+06 -4.23756917e+05]\n",
      " [-1.62522051e+06  6.55283877e+05 -8.54003196e+05 -1.05496559e+04\n",
      "   1.61700979e+06 -3.38464175e+06  1.83509938e+06  2.61614489e+06\n",
      "   1.87274472e+06  6.01283289e+05  2.66446776e+06 -2.98548554e+06\n",
      "  -1.16522399e+06 -2.24884752e+06  4.11938450e+05]\n",
      " [ 8.50019496e+05 -3.30039419e+05  3.96100276e+05  6.04829300e+04\n",
      "  -8.46186932e+05  1.79225143e+06 -9.47193903e+05 -1.32105350e+06\n",
      "  -9.56951479e+05 -3.32921670e+05 -1.39513441e+06  1.51949863e+06\n",
      "   6.10219871e+05  1.12375896e+06 -2.22850287e+05]\n",
      " [-1.89137853e+05  7.04386584e+04 -7.87321021e+04 -2.37292040e+04\n",
      "   1.88362777e+05 -4.03019144e+05  2.07884364e+05  2.84814521e+05\n",
      "   2.08227927e+05  7.82143354e+04  3.10268423e+05 -3.29736186e+05\n",
      "  -1.36087258e+05 -2.39220580e+05  5.14513229e+04]]\n",
      "\n",
      "\n",
      "[[ 3.09759846e-01 -2.85067299e+00  4.38891240e+00 -2.42004130e+00\n",
      "   3.09759853e-01  6.39966680e+00 -3.77451699e+00 -7.62929775e+00\n",
      "  -4.59511758e+00 -7.81673338e-01 -5.84262432e+00  7.70159558e+00\n",
      "   3.97884083e+00  6.40247403e+00 -1.09706507e+00]\n",
      " [ 3.09763806e-01 -2.85170331e+00  4.38977215e+00 -2.42016571e+00\n",
      "   3.09763813e-01  6.40242288e+00 -3.77592482e+00 -7.63155271e+00\n",
      "  -4.59675364e+00 -7.82110327e-01 -5.84501379e+00  7.70413645e+00\n",
      "   3.98038753e+00  6.40450968e+00 -1.09753198e+00]\n",
      " [-1.29471417e+01  6.67882528e+02 -1.01098554e+03  5.51460688e+02\n",
      "  -1.29471433e+01 -1.50641034e+03  8.85286490e+02  1.77400614e+03\n",
      "   1.07721896e+03  1.85261679e+02  1.37377454e+03 -1.80007542e+03\n",
      "  -9.33556203e+02 -1.49586799e+03  2.57898741e+02]\n",
      " [ 1.16052754e+02 -1.10160590e+04  1.50016237e+04 -7.58603814e+03\n",
      "   1.16052780e+02  2.55342016e+04 -1.46943620e+04 -2.79628198e+04\n",
      "  -1.78230251e+04 -3.26399656e+03 -2.31371859e+04  2.92603932e+04\n",
      "   1.55312994e+04  2.42629461e+04 -4.33908302e+03]\n",
      " [-5.86242684e+02  8.08993765e+04 -9.78920325e+04  4.38333545e+04\n",
      "  -5.86242879e+02 -1.93422947e+05  1.08602538e+05  1.96599089e+05\n",
      "   1.30786887e+05  2.58504259e+04  1.73855091e+05 -2.10872089e+05\n",
      "  -1.15294592e+05 -1.74432061e+05  3.26594451e+04]\n",
      " [ 1.84161524e+03 -3.30977205e+05  3.55142473e+05 -1.32011878e+05\n",
      "   1.84161604e+03  8.17808633e+05 -4.46932936e+05 -7.73526913e+05\n",
      "  -5.32732396e+05 -1.14697388e+05 -7.28105131e+05  8.45969294e+05\n",
      "   4.77777162e+05  6.96143049e+05 -1.37539995e+05]\n",
      " [-3.73636746e+03  8.18843040e+05 -7.81669711e+05  2.18465614e+05\n",
      "  -3.73636942e+03 -2.09301110e+06  1.11155299e+06  1.85056898e+06\n",
      "   1.30980417e+06  3.08848160e+05  1.84350016e+06 -2.05527215e+06\n",
      "  -1.19980656e+06 -1.67615309e+06  3.51802241e+05]\n",
      " [ 4.90354974e+03 -1.25304236e+06  1.07094513e+06 -1.86050171e+05\n",
      "   4.90355275e+03  3.31452424e+06 -1.70931432e+06 -2.75459266e+06\n",
      "  -1.99177244e+06 -5.15418777e+05 -2.88563321e+06  3.09722641e+06\n",
      "   1.86781402e+06  2.49459775e+06 -5.59090715e+05]\n",
      " [-4.02057771e+03  1.15919513e+06 -8.94279794e+05  5.11126166e+04\n",
      "  -4.02058050e+03 -3.17328932e+06  1.58925345e+06  2.49358679e+06\n",
      "   1.83343609e+06  5.20289737e+05  2.72955677e+06 -2.83184992e+06\n",
      "  -1.76200225e+06 -2.24657875e+06  5.39610621e+05]\n",
      " [ 1.87192752e+03 -5.93665820e+05  4.17171396e+05  2.82236722e+04\n",
      "   1.87192896e+03  1.68168022e+06 -8.18577048e+05 -1.25693596e+06\n",
      "  -9.36386761e+05 -2.90549053e+05 -1.42918640e+06  1.43912256e+06\n",
      "   9.22430613e+05  1.12257203e+06 -2.89643309e+05]\n",
      " [-3.77666927e+02  1.29110251e+05 -8.34216027e+04 -1.65497181e+04\n",
      "  -3.77667243e+02 -3.78410876e+05  1.79259933e+05  2.70544788e+05\n",
      "   2.03651129e+05  6.87840625e+04  3.17846892e+05 -3.11848024e+05\n",
      "  -2.05571579e+05 -2.38956421e+05  6.63164993e+04]]\n"
     ]
    }
   ],
   "source": [
    "print(pseudoinvers)\n",
    "print('\\n')\n",
    "print(np.linalg.pinv(A))"
   ]
  },
  {
   "cell_type": "code",
   "execution_count": 14,
   "metadata": {},
   "outputs": [],
   "source": [
    "def _is_empty_2d(arr):\n",
    "    # check size first for efficiency\n",
    "    return arr.size == 0 and product(arr.shape[-2:]) == 0"
   ]
  },
  {
   "cell_type": "code",
   "execution_count": 21,
   "metadata": {},
   "outputs": [
    {
     "ename": "NameError",
     "evalue": "name '_makearray' is not defined",
     "output_type": "error",
     "traceback": [
      "\u001b[0;31m---------------------------------------------------------------------------\u001b[0m",
      "\u001b[0;31mNameError\u001b[0m                                 Traceback (most recent call last)",
      "\u001b[0;32m/tmp/ipykernel_3242/1331137805.py\u001b[0m in \u001b[0;36m<cell line: 2>\u001b[0;34m()\u001b[0m\n\u001b[1;32m      1\u001b[0m \u001b[0mrcond\u001b[0m\u001b[0;34m=\u001b[0m\u001b[0;36m1e-15\u001b[0m\u001b[0;34m\u001b[0m\u001b[0;34m\u001b[0m\u001b[0m\n\u001b[0;32m----> 2\u001b[0;31m \u001b[0ma\u001b[0m\u001b[0;34m,\u001b[0m \u001b[0mwrap\u001b[0m \u001b[0;34m=\u001b[0m \u001b[0m_makearray\u001b[0m\u001b[0;34m(\u001b[0m\u001b[0ma\u001b[0m\u001b[0;34m)\u001b[0m\u001b[0;34m\u001b[0m\u001b[0;34m\u001b[0m\u001b[0m\n\u001b[0m\u001b[1;32m      3\u001b[0m \u001b[0mrcond\u001b[0m \u001b[0;34m=\u001b[0m \u001b[0masarray\u001b[0m\u001b[0;34m(\u001b[0m\u001b[0mrcond\u001b[0m\u001b[0;34m)\u001b[0m\u001b[0;34m\u001b[0m\u001b[0;34m\u001b[0m\u001b[0m\n\u001b[1;32m      4\u001b[0m \u001b[0;32mif\u001b[0m \u001b[0m_is_empty_2d\u001b[0m\u001b[0;34m(\u001b[0m\u001b[0ma\u001b[0m\u001b[0;34m)\u001b[0m\u001b[0;34m:\u001b[0m\u001b[0;34m\u001b[0m\u001b[0;34m\u001b[0m\u001b[0m\n\u001b[1;32m      5\u001b[0m     \u001b[0mm\u001b[0m\u001b[0;34m,\u001b[0m \u001b[0mn\u001b[0m \u001b[0;34m=\u001b[0m \u001b[0ma\u001b[0m\u001b[0;34m.\u001b[0m\u001b[0mshape\u001b[0m\u001b[0;34m[\u001b[0m\u001b[0;34m-\u001b[0m\u001b[0;36m2\u001b[0m\u001b[0;34m:\u001b[0m\u001b[0;34m]\u001b[0m\u001b[0;34m\u001b[0m\u001b[0;34m\u001b[0m\u001b[0m\n",
      "\u001b[0;31mNameError\u001b[0m: name '_makearray' is not defined"
     ]
    }
   ],
   "source": [
    "rcond=1e-15\n",
    "a, wrap = _makearray(a)\n",
    "rcond = asarray(rcond)\n",
    "if _is_empty_2d(a):\n",
    "    m, n = a.shape[-2:]\n",
    "    res = empty(a.shape[:-2] + (n, m), dtype=a.dtype)\n",
    "    return wrap(res)\n",
    "a = a.conjugate()\n",
    "u, s, vt = svd(a, full_matrices=False, hermitian=hermitian)\n",
    "\n",
    "# discard small singular values\n",
    "cutoff = rcond[..., newaxis] * amax(s, axis=-1, keepdims=True)\n",
    "large = s > cutoff\n",
    "s = divide(1, s, where=large, out=s)\n",
    "s[~large] = 0\n",
    "\n",
    "res = matmul(transpose(vt), multiply(s[..., newaxis], transpose(u)))\n",
    "return wrap(res)"
   ]
  },
  {
   "cell_type": "code",
   "execution_count": 32,
   "metadata": {},
   "outputs": [
    {
     "name": "stdout",
     "output_type": "stream",
     "text": [
      "1\n"
     ]
    }
   ],
   "source": [
    "r=1\n",
    "r=np.asarray(r)\n",
    "print(r)"
   ]
  },
  {
   "cell_type": "code",
   "execution_count": 23,
   "metadata": {},
   "outputs": [
    {
     "data": {
      "text/plain": [
       "()"
      ]
     },
     "execution_count": 23,
     "metadata": {},
     "output_type": "execute_result"
    }
   ],
   "source": [
    "A.shape[:-2]"
   ]
  },
  {
   "cell_type": "code",
   "execution_count": 51,
   "metadata": {},
   "outputs": [],
   "source": [
    "def _makearray(a):\n",
    "    new = np.asarray(a)\n",
    "    wrap = getattr(a, \"__array_prepare__\", new.__array_wrap__)\n",
    "    return new, wrap\n",
    "def _is_empty_2d(arr):\n",
    "    # check size first for efficiency\n",
    "    return arr.size == 0 and product(arr.shape[-2:]) == 0"
   ]
  },
  {
   "cell_type": "code",
   "execution_count": 57,
   "metadata": {},
   "outputs": [
    {
     "name": "stdout",
     "output_type": "stream",
     "text": [
      "0.01319553738061564\n",
      "[[ 3.09764362e-01 -2.85184664e+00  4.38989183e+00 -2.42018311e+00\n",
      "   3.09764359e-01  6.40280621e+00 -3.77612066e+00 -7.63186646e+00\n",
      "  -4.59698124e+00 -7.82171093e-01 -5.84534614e+00  7.70448994e+00\n",
      "   3.98060267e+00  6.40479290e+00 -1.09759692e+00]\n",
      " [ 3.09759299e-01 -2.85052967e+00  4.38879271e+00 -2.42002389e+00\n",
      "   3.09759296e-01  6.39928347e+00 -3.77432116e+00 -7.62898401e+00\n",
      "  -4.59488999e+00 -7.81612573e-01 -5.84229197e+00  7.70124210e+00\n",
      "   3.97862568e+00  6.40219082e+00 -1.09700012e+00]\n",
      " [-1.29471429e+01  6.67882527e+02 -1.01098554e+03  5.51460688e+02\n",
      "  -1.29471422e+01 -1.50641034e+03  8.85286491e+02  1.77400614e+03\n",
      "   1.07721896e+03  1.85261680e+02  1.37377455e+03 -1.80007542e+03\n",
      "  -9.33556202e+02 -1.49586799e+03  2.57898741e+02]\n",
      " [ 1.16052772e+02 -1.10160590e+04  1.50016237e+04 -7.58603813e+03\n",
      "   1.16052762e+02  2.55342016e+04 -1.46943620e+04 -2.79628198e+04\n",
      "  -1.78230251e+04 -3.26399657e+03 -2.31371860e+04  2.92603932e+04\n",
      "   1.55312994e+04  2.42629461e+04 -4.33908302e+03]\n",
      " [-5.86242820e+02  8.08993764e+04 -9.78920326e+04  4.38333545e+04\n",
      "  -5.86242743e+02 -1.93422947e+05  1.08602538e+05  1.96599089e+05\n",
      "   1.30786887e+05  2.58504259e+04  1.73855091e+05 -2.10872089e+05\n",
      "  -1.15294592e+05 -1.74432061e+05  3.26594451e+04]\n",
      " [ 1.84161580e+03 -3.30977205e+05  3.55142473e+05 -1.32011878e+05\n",
      "   1.84161548e+03  8.17808634e+05 -4.46932936e+05 -7.73526914e+05\n",
      "  -5.32732396e+05 -1.14697388e+05 -7.28105131e+05  8.45969295e+05\n",
      "   4.77777161e+05  6.96143049e+05 -1.37539994e+05]\n",
      " [-3.73636883e+03  8.18843039e+05 -7.81669711e+05  2.18465613e+05\n",
      "  -3.73636806e+03 -2.09301110e+06  1.11155299e+06  1.85056898e+06\n",
      "   1.30980417e+06  3.08848160e+05  1.84350016e+06 -2.05527216e+06\n",
      "  -1.19980656e+06 -1.67615309e+06  3.51802241e+05]\n",
      " [ 4.90355184e+03 -1.25304236e+06  1.07094513e+06 -1.86050171e+05\n",
      "   4.90355066e+03  3.31452424e+06 -1.70931432e+06 -2.75459266e+06\n",
      "  -1.99177245e+06 -5.15418777e+05 -2.88563321e+06  3.09722641e+06\n",
      "   1.86781402e+06  2.49459775e+06 -5.59090714e+05]\n",
      " [-4.02057965e+03  1.15919513e+06 -8.94279794e+05  5.11126160e+04\n",
      "  -4.02057856e+03 -3.17328932e+06  1.58925345e+06  2.49358679e+06\n",
      "   1.83343609e+06  5.20289738e+05  2.72955677e+06 -2.83184992e+06\n",
      "  -1.76200225e+06 -2.24657875e+06  5.39610621e+05]\n",
      " [ 1.87192852e+03 -5.93665820e+05  4.17171396e+05  2.82236725e+04\n",
      "   1.87192796e+03  1.68168022e+06 -8.18577049e+05 -1.25693596e+06\n",
      "  -9.36386762e+05 -2.90549053e+05 -1.42918640e+06  1.43912256e+06\n",
      "   9.22430613e+05  1.12257203e+06 -2.89643309e+05]\n",
      " [-3.77667146e+02  1.29110251e+05 -8.34216028e+04 -1.65497182e+04\n",
      "  -3.77667024e+02 -3.78410876e+05  1.79259934e+05  2.70544788e+05\n",
      "   2.03651129e+05  6.87840625e+04  3.17846892e+05 -3.11848024e+05\n",
      "  -2.05571579e+05 -2.38956421e+05  6.63164993e+04]]\n",
      "\n",
      "\n",
      "[[ 3.09759846e-01 -2.85067299e+00  4.38891240e+00 -2.42004130e+00\n",
      "   3.09759853e-01  6.39966680e+00 -3.77451699e+00 -7.62929775e+00\n",
      "  -4.59511758e+00 -7.81673338e-01 -5.84262432e+00  7.70159558e+00\n",
      "   3.97884083e+00  6.40247403e+00 -1.09706507e+00]\n",
      " [ 3.09763806e-01 -2.85170331e+00  4.38977215e+00 -2.42016571e+00\n",
      "   3.09763813e-01  6.40242288e+00 -3.77592482e+00 -7.63155271e+00\n",
      "  -4.59675364e+00 -7.82110327e-01 -5.84501379e+00  7.70413645e+00\n",
      "   3.98038753e+00  6.40450968e+00 -1.09753198e+00]\n",
      " [-1.29471417e+01  6.67882528e+02 -1.01098554e+03  5.51460688e+02\n",
      "  -1.29471433e+01 -1.50641034e+03  8.85286490e+02  1.77400614e+03\n",
      "   1.07721896e+03  1.85261679e+02  1.37377454e+03 -1.80007542e+03\n",
      "  -9.33556203e+02 -1.49586799e+03  2.57898741e+02]\n",
      " [ 1.16052754e+02 -1.10160590e+04  1.50016237e+04 -7.58603814e+03\n",
      "   1.16052780e+02  2.55342016e+04 -1.46943620e+04 -2.79628198e+04\n",
      "  -1.78230251e+04 -3.26399656e+03 -2.31371859e+04  2.92603932e+04\n",
      "   1.55312994e+04  2.42629461e+04 -4.33908302e+03]\n",
      " [-5.86242684e+02  8.08993765e+04 -9.78920325e+04  4.38333545e+04\n",
      "  -5.86242879e+02 -1.93422947e+05  1.08602538e+05  1.96599089e+05\n",
      "   1.30786887e+05  2.58504259e+04  1.73855091e+05 -2.10872089e+05\n",
      "  -1.15294592e+05 -1.74432061e+05  3.26594451e+04]\n",
      " [ 1.84161524e+03 -3.30977205e+05  3.55142473e+05 -1.32011878e+05\n",
      "   1.84161604e+03  8.17808633e+05 -4.46932936e+05 -7.73526913e+05\n",
      "  -5.32732396e+05 -1.14697388e+05 -7.28105131e+05  8.45969294e+05\n",
      "   4.77777162e+05  6.96143049e+05 -1.37539995e+05]\n",
      " [-3.73636746e+03  8.18843040e+05 -7.81669711e+05  2.18465614e+05\n",
      "  -3.73636942e+03 -2.09301110e+06  1.11155299e+06  1.85056898e+06\n",
      "   1.30980417e+06  3.08848160e+05  1.84350016e+06 -2.05527215e+06\n",
      "  -1.19980656e+06 -1.67615309e+06  3.51802241e+05]\n",
      " [ 4.90354974e+03 -1.25304236e+06  1.07094513e+06 -1.86050171e+05\n",
      "   4.90355275e+03  3.31452424e+06 -1.70931432e+06 -2.75459266e+06\n",
      "  -1.99177244e+06 -5.15418777e+05 -2.88563321e+06  3.09722641e+06\n",
      "   1.86781402e+06  2.49459775e+06 -5.59090715e+05]\n",
      " [-4.02057771e+03  1.15919513e+06 -8.94279794e+05  5.11126166e+04\n",
      "  -4.02058050e+03 -3.17328932e+06  1.58925345e+06  2.49358679e+06\n",
      "   1.83343609e+06  5.20289737e+05  2.72955677e+06 -2.83184992e+06\n",
      "  -1.76200225e+06 -2.24657875e+06  5.39610621e+05]\n",
      " [ 1.87192752e+03 -5.93665820e+05  4.17171396e+05  2.82236722e+04\n",
      "   1.87192896e+03  1.68168022e+06 -8.18577048e+05 -1.25693596e+06\n",
      "  -9.36386761e+05 -2.90549053e+05 -1.42918640e+06  1.43912256e+06\n",
      "   9.22430613e+05  1.12257203e+06 -2.89643309e+05]\n",
      " [-3.77666927e+02  1.29110251e+05 -8.34216027e+04 -1.65497181e+04\n",
      "  -3.77667243e+02 -3.78410876e+05  1.79259933e+05  2.70544788e+05\n",
      "   2.03651129e+05  6.87840625e+04  3.17846892e+05 -3.11848024e+05\n",
      "  -2.05571579e+05 -2.38956421e+05  6.63164993e+04]]\n"
     ]
    }
   ],
   "source": [
    "A, wrap = _makearray(A)\n",
    "if _is_empty_2d(A):\n",
    "    print('ola')\n",
    "    m, n = a.shape[-2:]\n",
    "    res = empty(a.shape[:-2] + (n, m), dtype=a.dtype)\n",
    "    print(wrap(res))\n",
    "u, s, vt = svd(A, full_matrices=False)\n",
    "r=1e-15\n",
    "r=np.asarray(r)\n",
    "cutoff = r[..., np.newaxis] * np.amax(s, axis=-1, keepdims=True)\n",
    "large = s > cutoff\n",
    "s = np.divide(1, s, where=large, out=s)\n",
    "s[~large] = 0\n",
    "res = np.matmul(np.transpose(vt), np.multiply(s[..., np.newaxis], np.transpose(u)))\n",
    "print(np.linalg.norm(wrap(res)-np.linalg.pinv(A)))\n",
    "print(wrap(res))\n",
    "print('\\n')\n",
    "print(np.linalg.pinv(A))"
   ]
  },
  {
   "cell_type": "code",
   "execution_count": null,
   "metadata": {},
   "outputs": [],
   "source": []
  },
  {
   "cell_type": "code",
   "execution_count": null,
   "metadata": {},
   "outputs": [],
   "source": []
  },
  {
   "cell_type": "code",
   "execution_count": null,
   "metadata": {},
   "outputs": [],
   "source": []
  },
  {
   "cell_type": "code",
   "execution_count": null,
   "metadata": {},
   "outputs": [],
   "source": []
  },
  {
   "cell_type": "code",
   "execution_count": null,
   "metadata": {},
   "outputs": [],
   "source": []
  },
  {
   "cell_type": "code",
   "execution_count": null,
   "metadata": {},
   "outputs": [],
   "source": []
  },
  {
   "cell_type": "code",
   "execution_count": null,
   "metadata": {},
   "outputs": [],
   "source": []
  },
  {
   "cell_type": "code",
   "execution_count": null,
   "metadata": {},
   "outputs": [],
   "source": []
  },
  {
   "cell_type": "code",
   "execution_count": null,
   "metadata": {},
   "outputs": [],
   "source": []
  },
  {
   "cell_type": "code",
   "execution_count": 14,
   "metadata": {},
   "outputs": [],
   "source": [
    "import numpy as np\n",
    "from imageio import imread, imsave\n",
    "from numpy.linalg import svd"
   ]
  },
  {
   "cell_type": "code",
   "execution_count": 39,
   "metadata": {},
   "outputs": [
    {
     "name": "stderr",
     "output_type": "stream",
     "text": [
      "/tmp/ipykernel_4714/1970113270.py:1: DeprecationWarning: Starting with ImageIO v3 the behavior of this function will switch to that of iio.v3.imread. To keep the current behavior (and make this warning disappear) use `import imageio.v2 as imageio` or call `imageio.v2.imread` directly.\n",
      "  img = imread('landscape.jpg')\n",
      "/tmp/ipykernel_4714/1970113270.py:2: DeprecationWarning: Starting with ImageIO v3 the behavior of this function will switch to that of iio.v3.imread. To keep the current behavior (and make this warning disappear) use `import imageio.v2 as imageio` or call `imageio.v2.imread` directly.\n",
      "  img2=imread('graduacio.jpg')\n",
      "/tmp/ipykernel_4714/1970113270.py:3: DeprecationWarning: Starting with ImageIO v3 the behavior of this function will switch to that of iio.v3.imread. To keep the current behavior (and make this warning disappear) use `import imageio.v2 as imageio` or call `imageio.v2.imread` directly.\n",
      "  img3=imread('viero.jpg')\n"
     ]
    }
   ],
   "source": [
    "img = imread('landscape.jpg')\n",
    "img2=imread('graduacio.jpg')\n",
    "img3=imread('viero.jpg')"
   ]
  },
  {
   "cell_type": "code",
   "execution_count": 40,
   "metadata": {},
   "outputs": [
    {
     "name": "stdout",
     "output_type": "stream",
     "text": [
      "(711, 800, 3)\n",
      "(4160, 2993, 3)\n",
      "(2598, 1772, 3)\n"
     ]
    }
   ],
   "source": [
    "print(img.shape)\n",
    "print(img2.shape)\n",
    "print(img3.shape)"
   ]
  },
  {
   "cell_type": "code",
   "execution_count": 44,
   "metadata": {},
   "outputs": [
    {
     "name": "stdout",
     "output_type": "stream",
     "text": [
      "(711,)\n",
      "(711,)\n",
      "(711,)\n"
     ]
    }
   ],
   "source": [
    "r = 500\n",
    "compressed_img = np.zeros(img.shape)\n",
    "error=0\n",
    "for i in range(0,3):\n",
    "    imgg = img[:,:,i]\n",
    "    U,S,VH = svd(imgg)\n",
    "    print(S.shape)\n",
    "    compress = np.matmul(np.matmul(U[:,:r],np.diag(S[:r])),VH[:r,:])\n",
    "    error += np.linalg.norm(imgg - compress) / np.linalg.norm(imgg)\n",
    "    compressed_img[:,:,i] = compress\n",
    "\n",
    "imsave(str(r) + \"_\" + str(error) + \".jpg\", compressed_img.astype(np.uint8))\n",
    "    "
   ]
  },
  {
   "cell_type": "code",
   "execution_count": 45,
   "metadata": {},
   "outputs": [
    {
     "name": "stdout",
     "output_type": "stream",
     "text": [
      "The compression error for rate 10 is: 25\n"
     ]
    }
   ],
   "source": [
    "print('The compression error for rate',10,'is:',25)"
   ]
  },
  {
   "cell_type": "code",
   "execution_count": null,
   "metadata": {},
   "outputs": [],
   "source": []
  }
 ],
 "metadata": {
  "kernelspec": {
   "display_name": "Python 3 (ipykernel)",
   "language": "python",
   "name": "python3"
  },
  "language_info": {
   "codemirror_mode": {
    "name": "ipython",
    "version": 3
   },
   "file_extension": ".py",
   "mimetype": "text/x-python",
   "name": "python",
   "nbconvert_exporter": "python",
   "pygments_lexer": "ipython3",
   "version": "3.10.4"
  }
 },
 "nbformat": 4,
 "nbformat_minor": 2
}
